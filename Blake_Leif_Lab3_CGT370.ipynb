{
  "nbformat": 4,
  "nbformat_minor": 0,
  "metadata": {
    "colab": {
      "provenance": [],
      "authorship_tag": "ABX9TyMrjsEsB/NndvKzmV6m37G1",
      "include_colab_link": true
    },
    "kernelspec": {
      "name": "python3",
      "display_name": "Python 3"
    },
    "language_info": {
      "name": "python"
    }
  },
  "cells": [
    {
      "cell_type": "markdown",
      "metadata": {
        "id": "view-in-github",
        "colab_type": "text"
      },
      "source": [
        "<a href=\"https://colab.research.google.com/github/leifblake/cgt370lab3/blob/main/Blake_Leif_Lab3_CGT370.ipynb\" target=\"_parent\"><img src=\"https://colab.research.google.com/assets/colab-badge.svg\" alt=\"Open In Colab\"/></a>"
      ]
    },
    {
      "cell_type": "code",
      "execution_count": 1,
      "metadata": {
        "id": "cOhQFsyKqGFW",
        "colab": {
          "base_uri": "https://localhost:8080/"
        },
        "outputId": "450cae8b-8e95-431f-ea84-2ac8fa11d107"
      },
      "outputs": [
        {
          "output_type": "stream",
          "name": "stdout",
          "text": [
            "Mounted at /content/drive\n"
          ]
        },
        {
          "output_type": "stream",
          "name": "stderr",
          "text": [
            "<ipython-input-1-b0249c3b919e>:8: DtypeWarning: Columns (3) have mixed types. Specify dtype option on import or set low_memory=False.\n",
            "  df = pd.read_csv(file_path)\n"
          ]
        }
      ],
      "source": [
        "import pandas as pd\n",
        "from google.colab import drive\n",
        "\n",
        "drive.mount('/content/drive')\n",
        "\n",
        "file_path = '/content/drive/My Drive/Motor_Vehicle_Collisions_-_Crashes_20250127.csv'\n",
        "\n",
        "df = pd.read_csv(file_path)\n"
      ]
    },
    {
      "cell_type": "code",
      "source": [
        "# Check for missing values\n",
        "print(df.isnull().sum())\n",
        "\n",
        "# Fill missing values in less critical columns with placeholders\n",
        "df_cleaned['ZIP CODE'] = df_cleaned['ZIP CODE'].fillna('UNKNOWN')\n",
        "df_cleaned['ON STREET NAME'] = df_cleaned['ON STREET NAME'].fillna('UNKNOWN')\n",
        "\n",
        "print(df_cleaned.isnull().sum())\n"
      ],
      "metadata": {
        "colab": {
          "base_uri": "https://localhost:8080/",
          "height": 751
        },
        "id": "0-rUstRsFTBQ",
        "outputId": "574f70d1-0e42-4ae2-e212-c5ee47452424"
      },
      "execution_count": 2,
      "outputs": [
        {
          "output_type": "stream",
          "name": "stdout",
          "text": [
            "CRASH DATE                             0\n",
            "CRASH TIME                             0\n",
            "BOROUGH                           666464\n",
            "ZIP CODE                          666730\n",
            "LATITUDE                          239596\n",
            "LONGITUDE                         239596\n",
            "LOCATION                          239596\n",
            "ON STREET NAME                    462305\n",
            "CROSS STREET NAME                 820302\n",
            "OFF STREET NAME                  1781236\n",
            "NUMBER OF PERSONS INJURED             18\n",
            "NUMBER OF PERSONS KILLED              31\n",
            "NUMBER OF PEDESTRIANS INJURED          0\n",
            "NUMBER OF PEDESTRIANS KILLED           0\n",
            "NUMBER OF CYCLIST INJURED              0\n",
            "NUMBER OF CYCLIST KILLED               0\n",
            "NUMBER OF MOTORIST INJURED             0\n",
            "NUMBER OF MOTORIST KILLED              0\n",
            "CONTRIBUTING FACTOR VEHICLE 1       7336\n",
            "CONTRIBUTING FACTOR VEHICLE 2     339798\n",
            "CONTRIBUTING FACTOR VEHICLE 3    1996155\n",
            "CONTRIBUTING FACTOR VEHICLE 4    2115904\n",
            "CONTRIBUTING FACTOR VEHICLE 5    2141540\n",
            "COLLISION_ID                           0\n",
            "VEHICLE TYPE CODE 1                14995\n",
            "VEHICLE TYPE CODE 2               422166\n",
            "VEHICLE TYPE CODE 3              2002017\n",
            "VEHICLE TYPE CODE 4              2117169\n",
            "VEHICLE TYPE CODE 5              2141837\n",
            "dtype: int64\n"
          ]
        },
        {
          "output_type": "error",
          "ename": "NameError",
          "evalue": "name 'df_cleaned' is not defined",
          "traceback": [
            "\u001b[0;31m---------------------------------------------------------------------------\u001b[0m",
            "\u001b[0;31mNameError\u001b[0m                                 Traceback (most recent call last)",
            "\u001b[0;32m<ipython-input-2-464b13931499>\u001b[0m in \u001b[0;36m<cell line: 0>\u001b[0;34m()\u001b[0m\n\u001b[1;32m      3\u001b[0m \u001b[0;34m\u001b[0m\u001b[0m\n\u001b[1;32m      4\u001b[0m \u001b[0;31m# Fill missing values in less critical columns with placeholders\u001b[0m\u001b[0;34m\u001b[0m\u001b[0;34m\u001b[0m\u001b[0m\n\u001b[0;32m----> 5\u001b[0;31m \u001b[0mdf_cleaned\u001b[0m\u001b[0;34m[\u001b[0m\u001b[0;34m'ZIP CODE'\u001b[0m\u001b[0;34m]\u001b[0m \u001b[0;34m=\u001b[0m \u001b[0mdf_cleaned\u001b[0m\u001b[0;34m[\u001b[0m\u001b[0;34m'ZIP CODE'\u001b[0m\u001b[0;34m]\u001b[0m\u001b[0;34m.\u001b[0m\u001b[0mfillna\u001b[0m\u001b[0;34m(\u001b[0m\u001b[0;34m'UNKNOWN'\u001b[0m\u001b[0;34m)\u001b[0m\u001b[0;34m\u001b[0m\u001b[0;34m\u001b[0m\u001b[0m\n\u001b[0m\u001b[1;32m      6\u001b[0m \u001b[0mdf_cleaned\u001b[0m\u001b[0;34m[\u001b[0m\u001b[0;34m'ON STREET NAME'\u001b[0m\u001b[0;34m]\u001b[0m \u001b[0;34m=\u001b[0m \u001b[0mdf_cleaned\u001b[0m\u001b[0;34m[\u001b[0m\u001b[0;34m'ON STREET NAME'\u001b[0m\u001b[0;34m]\u001b[0m\u001b[0;34m.\u001b[0m\u001b[0mfillna\u001b[0m\u001b[0;34m(\u001b[0m\u001b[0;34m'UNKNOWN'\u001b[0m\u001b[0;34m)\u001b[0m\u001b[0;34m\u001b[0m\u001b[0;34m\u001b[0m\u001b[0m\n\u001b[1;32m      7\u001b[0m \u001b[0;34m\u001b[0m\u001b[0m\n",
            "\u001b[0;31mNameError\u001b[0m: name 'df_cleaned' is not defined"
          ]
        }
      ]
    },
    {
      "cell_type": "code",
      "source": [
        "# Make a copy of the original DataFrame to work on cleaned data\n",
        "df_cleaned = df.copy()\n"
      ],
      "metadata": {
        "id": "u8UCvvGGGFYK"
      },
      "execution_count": 3,
      "outputs": []
    },
    {
      "cell_type": "code",
      "source": [
        "# Fill missing values in less critical columns with placeholders\n",
        "df_cleaned['ZIP CODE'] = df_cleaned['ZIP CODE'].fillna('UNKNOWN')\n",
        "df_cleaned['ON STREET NAME'] = df_cleaned['ON STREET NAME'].fillna('UNKNOWN')\n",
        "df_cleaned['BOROUGH'] = df_cleaned['BOROUGH'].fillna('UNKNOWN')\n",
        "\n",
        "print(df_cleaned.isnull().sum())"
      ],
      "metadata": {
        "colab": {
          "base_uri": "https://localhost:8080/"
        },
        "id": "LHdiPkPPIXt8",
        "outputId": "1f2d356a-1043-4c94-b158-2abb4a8a6bc4"
      },
      "execution_count": 4,
      "outputs": [
        {
          "output_type": "stream",
          "name": "stdout",
          "text": [
            "CRASH DATE                             0\n",
            "CRASH TIME                             0\n",
            "BOROUGH                                0\n",
            "ZIP CODE                               0\n",
            "LATITUDE                          239596\n",
            "LONGITUDE                         239596\n",
            "LOCATION                          239596\n",
            "ON STREET NAME                         0\n",
            "CROSS STREET NAME                 820302\n",
            "OFF STREET NAME                  1781236\n",
            "NUMBER OF PERSONS INJURED             18\n",
            "NUMBER OF PERSONS KILLED              31\n",
            "NUMBER OF PEDESTRIANS INJURED          0\n",
            "NUMBER OF PEDESTRIANS KILLED           0\n",
            "NUMBER OF CYCLIST INJURED              0\n",
            "NUMBER OF CYCLIST KILLED               0\n",
            "NUMBER OF MOTORIST INJURED             0\n",
            "NUMBER OF MOTORIST KILLED              0\n",
            "CONTRIBUTING FACTOR VEHICLE 1       7336\n",
            "CONTRIBUTING FACTOR VEHICLE 2     339798\n",
            "CONTRIBUTING FACTOR VEHICLE 3    1996155\n",
            "CONTRIBUTING FACTOR VEHICLE 4    2115904\n",
            "CONTRIBUTING FACTOR VEHICLE 5    2141540\n",
            "COLLISION_ID                           0\n",
            "VEHICLE TYPE CODE 1                14995\n",
            "VEHICLE TYPE CODE 2               422166\n",
            "VEHICLE TYPE CODE 3              2002017\n",
            "VEHICLE TYPE CODE 4              2117169\n",
            "VEHICLE TYPE CODE 5              2141837\n",
            "dtype: int64\n"
          ]
        }
      ]
    },
    {
      "cell_type": "code",
      "source": [
        "cleaned_file_path = '/content/drive/My Drive/Cleaned_Collisions.csv'\n",
        "df_cleaned.to_csv(cleaned_file_path, index=False)"
      ],
      "metadata": {
        "id": "myc-EPXJJCsP"
      },
      "execution_count": 8,
      "outputs": []
    },
    {
      "cell_type": "code",
      "source": [
        "# Convert CRASH TIME to datetime and extract the hour\n",
        "df_cleaned['CRASH TIME'] = pd.to_datetime(df_cleaned['CRASH TIME'], format='%H:%M', errors='coerce')\n",
        "df_cleaned['HOUR'] = df_cleaned['CRASH TIME'].dt.hour\n",
        "\n",
        "print(df_cleaned[['CRASH TIME', 'HOUR']].head())"
      ],
      "metadata": {
        "colab": {
          "base_uri": "https://localhost:8080/"
        },
        "id": "xEwz4va6Icm7",
        "outputId": "a85549cd-1e90-4c45-d42e-2ce606f92d29"
      },
      "execution_count": 5,
      "outputs": [
        {
          "output_type": "stream",
          "name": "stdout",
          "text": [
            "           CRASH TIME  HOUR\n",
            "0 1900-01-01 02:39:00     2\n",
            "1 1900-01-01 11:45:00    11\n",
            "2 1900-01-01 06:55:00     6\n",
            "3 1900-01-01 09:35:00     9\n",
            "4 1900-01-01 08:13:00     8\n"
          ]
        }
      ]
    },
    {
      "cell_type": "code",
      "source": [
        "# Group by hour and count collisions\n",
        "hourly_collisions = df_cleaned.groupby('HOUR').agg({'CRASH DATE': 'count'}).rename(columns={'CRASH DATE': 'COLLISION_COUNT'})\n",
        "\n",
        "# Reset the index for better readability\n",
        "hourly_collisions = hourly_collisions.reset_index()\n",
        "\n",
        "print(hourly_collisions)"
      ],
      "metadata": {
        "colab": {
          "base_uri": "https://localhost:8080/"
        },
        "id": "vF1nj2PuIjgG",
        "outputId": "a61c2a7e-45b4-4047-d9a2-5243506e9457"
      },
      "execution_count": 6,
      "outputs": [
        {
          "output_type": "stream",
          "name": "stdout",
          "text": [
            "    HOUR  COLLISION_COUNT\n",
            "0      0            70222\n",
            "1      1            37867\n",
            "2      2            29045\n",
            "3      3            25591\n",
            "4      4            29095\n",
            "5      5            31467\n",
            "6      6            48407\n",
            "7      7            66007\n",
            "8      8           118029\n",
            "9      9           113448\n",
            "10    10           105973\n",
            "11    11           110601\n",
            "12    12           117661\n",
            "13    13           123375\n",
            "14    14           142625\n",
            "15    15           134060\n",
            "16    16           154001\n",
            "17    17           150974\n",
            "18    18           132824\n",
            "19    19           109442\n",
            "20    20            91548\n",
            "21    21            77993\n",
            "22    22            71078\n",
            "23    23            59835\n"
          ]
        }
      ]
    },
    {
      "cell_type": "code",
      "source": [
        "pivot_table = pd.pivot_table(\n",
        "    df_cleaned,\n",
        "    values=['NUMBER OF PERSONS INJURED', 'CRASH DATE'],\n",
        "    index='BOROUGH',\n",
        "    aggfunc={'NUMBER OF PERSONS INJURED': 'sum', 'CRASH DATE': 'count'}\n",
        ").rename(columns={'CRASH DATE': 'COLLISION_COUNT'})\n",
        "\n",
        "pivot_table = pivot_table.reset_index()\n",
        "\n",
        "print(pivot_table)\n",
        "\n",
        "# Calculate correlation\n",
        "correlation = pivot_table['COLLISION_COUNT'].corr(pivot_table['NUMBER OF PERSONS INJURED'])\n",
        "print(f\"Correlation coefficient between collisions and persons injured: {correlation}\")\n"
      ],
      "metadata": {
        "colab": {
          "base_uri": "https://localhost:8080/"
        },
        "id": "wCrbhD4DInj5",
        "outputId": "aa0d0032-bb07-4a19-ad7c-8f7a0ed285a9"
      },
      "execution_count": 7,
      "outputs": [
        {
          "output_type": "stream",
          "name": "stdout",
          "text": [
            "         BOROUGH  COLLISION_COUNT  NUMBER OF PERSONS INJURED\n",
            "0          BRONX           219761                    74268.0\n",
            "1       BROOKLYN           473971                   161644.0\n",
            "2      MANHATTAN           330487                    72407.0\n",
            "3         QUEENS           398217                   123716.0\n",
            "4  STATEN ISLAND            62268                    18259.0\n",
            "5        UNKNOWN           666464                   237991.0\n",
            "Correlation coefficient between collisions and persons injured: 0.9758723732738896\n"
          ]
        }
      ]
    }
  ]
}